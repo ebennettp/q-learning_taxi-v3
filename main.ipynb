{
 "cells": [
  {
   "cell_type": "code",
   "execution_count": null,
   "id": "490fcb49-3577-4bac-a011-ab457f74c4c4",
   "metadata": {},
   "outputs": [],
   "source": [
    "import gymnasium as gym\n",
    "import numpy as np\n"
   ]
  },
  {
   "cell_type": "code",
   "execution_count": null,
   "id": "115e9cac",
   "metadata": {},
   "outputs": [
    {
     "data": {
      "text/plain": [
       "(500, 6)"
      ]
     },
     "execution_count": 7,
     "metadata": {},
     "output_type": "execute_result"
    }
   ],
   "source": [
    "env = gym.make(\"Taxi-v3\", max_episode_steps=150)\n",
    "\n",
    "q_table = np.zeros((env.observation_space.n, env.action_space.n))  # type: ignore\n",
    "q_table.shape"
   ]
  },
  {
   "cell_type": "code",
   "execution_count": null,
   "id": "9d17d7a0-935a-4718-ac4c-3935b4e06b36",
   "metadata": {},
   "outputs": [
    {
     "name": "stdout",
     "output_type": "stream",
     "text": [
      "epoch = 2000, epsilon = 0.90, mean_reward = -2766.302\n",
      "epoch = 4000, epsilon = 0.80, mean_reward = -460.1395\n",
      "epoch = 6000, epsilon = 0.70, mean_reward = -188.7245\n",
      "epoch = 8000, epsilon = 0.60, mean_reward = -102.644\n",
      "epoch = 10000, epsilon = 0.50, mean_reward = -61.328\n",
      "epoch = 12000, epsilon = 0.40, mean_reward = -36.9845\n",
      "epoch = 14000, epsilon = 0.30, mean_reward = -20.093\n",
      "epoch = 16000, epsilon = 0.20, mean_reward = -9.1675\n",
      "epoch = 18000, epsilon = 0.10, mean_reward = -0.8895\n"
     ]
    }
   ],
   "source": [
    "lr = 0.1  # learning rate\n",
    "gamma = 0.9  # discount factor for future rewards\n",
    "epochs = 20000  # number of training episodes\n",
    "\n",
    "checks = 10\n",
    "check_freq = int(epochs / checks)\n",
    "window_rewards = 0\n",
    "\n",
    "# exploration\n",
    "epsilon = 1  # probability of taking a random action\n",
    "min_epsilon = 0.1\n",
    "epsilon_decay = 0.00005\n",
    "\n",
    "\n",
    "for epoch in range(epochs):\n",
    "    episode_reward = 0\n",
    "    obs, info = env.reset()\n",
    "    done = False\n",
    "\n",
    "    while not done:\n",
    "        if np.random.rand() < epsilon:  # Explore\n",
    "            action = env.action_space.sample()\n",
    "        else:  # Exploit\n",
    "            action = np.argmax(q_table[obs])\n",
    "\n",
    "        next_observation, reward, done, truncated, info = env.step(action)\n",
    "        episode_reward += reward  # pyright: ignore[reportOperatorIssue]\n",
    "\n",
    "        max_next_reward = q_table[next_observation][\n",
    "            np.argmax(q_table[next_observation])\n",
    "        ]\n",
    "\n",
    "        # Update Q-table\n",
    "        q_table[obs][action] += lr * (\n",
    "            reward + gamma * max_next_reward - q_table[obs][action]\n",
    "        )\n",
    "\n",
    "        obs = next_observation\n",
    "\n",
    "    window_rewards += episode_reward\n",
    "    epsilon = max(min_epsilon, epsilon - epsilon_decay)\n",
    "\n",
    "    if epoch % check_freq == 0 and epoch != 0:\n",
    "        print(\n",
    "            f\"{epoch = }, {epsilon = :.2f}, mean_reward = {window_rewards / check_freq}\"\n",
    "        )\n",
    "        window_rewards = 0\n",
    "\n",
    "env.close()\n"
   ]
  },
  {
   "cell_type": "code",
   "execution_count": null,
   "id": "256d8263",
   "metadata": {},
   "outputs": [
    {
     "name": "stdout",
     "output_type": "stream",
     "text": [
      "Mean eval reward: 7.83\n"
     ]
    }
   ],
   "source": [
    "eval_reward = 0\n",
    "eval_episodes = 100\n",
    "\n",
    "env = gym.make(\"Taxi-v3\", max_episode_steps=50)\n",
    "# env = gym.make(\"Taxi-v3\", max_episode_steps=50, render_mode=\"human\")\n",
    "\n",
    "# evaluate the agent\n",
    "for _ in range(eval_episodes):\n",
    "    obs, info = env.reset()\n",
    "    done = False\n",
    "    episode_reward = 0\n",
    "\n",
    "    while not done:\n",
    "        # action = greedy_policy(q_table, obs, info[\"action_mask\"])\n",
    "        action = np.argmax(q_table[obs, np.where(info[\"action_mask\"] == 1)[0]])\n",
    "        next_observation, reward, done, truncated, info = env.step(action)\n",
    "        episode_reward += reward  # pyright: ignore[reportOperatorIssue]\n",
    "        obs = next_observation\n",
    "\n",
    "    eval_reward += episode_reward\n",
    "\n",
    "print(f\"Mean eval reward: {eval_reward / eval_episodes}\")\n",
    "env.close()\n"
   ]
  },
  {
   "cell_type": "code",
   "execution_count": 9,
   "id": "516c72d0",
   "metadata": {},
   "outputs": [],
   "source": [
    "# save the Q-table to a file\n",
    "np.save(\"q_table.npy\", q_table)"
   ]
  }
 ],
 "metadata": {
  "kernelspec": {
   "display_name": ".venv",
   "language": "python",
   "name": "python3"
  },
  "language_info": {
   "codemirror_mode": {
    "name": "ipython",
    "version": 3
   },
   "file_extension": ".py",
   "mimetype": "text/x-python",
   "name": "python",
   "nbconvert_exporter": "python",
   "pygments_lexer": "ipython3",
   "version": "3.13.5"
  }
 },
 "nbformat": 4,
 "nbformat_minor": 5
}
